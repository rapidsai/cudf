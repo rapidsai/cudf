{
 "cells": [
  {
   "cell_type": "code",
   "execution_count": 1,
   "metadata": {},
   "outputs": [
    {
     "data": {
      "text/plain": [
       "0"
      ]
     },
     "execution_count": 1,
     "metadata": {},
     "output_type": "execute_result"
    }
   ],
   "source": [
    "import nvstrings\n",
    "\n",
    "from librmm_cffi import librmm as rmm\n",
    "from librmm_cffi import librmm_config as rmm_cfg\n",
    "\n",
    "# setup rmm to use memory pool\n",
    "rmm_cfg.use_pool_allocator = True \n",
    "rmm_cfg.initial_pool_size = 2<<30\n",
    "rmm.initialize()"
   ]
  },
  {
   "cell_type": "code",
   "execution_count": 2,
   "metadata": {},
   "outputs": [],
   "source": [
    "strs = nvstrings.to_device([\"Hello\",\"there\",\"world\",None,\"1234\",\"-123.4\",\"accénted\",\"\"])"
   ]
  },
  {
   "cell_type": "code",
   "execution_count": 3,
   "metadata": {},
   "outputs": [
    {
     "name": "stdout",
     "output_type": "stream",
     "text": [
      "['hello', 'there', 'world', None, '1234', '-123.4', 'accénted', '']\n"
     ]
    }
   ],
   "source": [
    "print(strs.lower())"
   ]
  },
  {
   "cell_type": "code",
   "execution_count": 4,
   "metadata": {},
   "outputs": [
    {
     "name": "stdout",
     "output_type": "stream",
     "text": [
      "['ll', 'er', 'rl', None, '34', '23', 'cé', '']\n"
     ]
    }
   ],
   "source": [
    "print(strs.slice(2,4))"
   ]
  },
  {
   "cell_type": "code",
   "execution_count": null,
   "metadata": {},
   "outputs": [],
   "source": []
  }
 ],
 "metadata": {
  "kernelspec": {
   "display_name": "Python 3",
   "language": "python",
   "name": "python3"
  },
  "language_info": {
   "codemirror_mode": {
    "name": "ipython",
    "version": 3
   },
   "file_extension": ".py",
   "mimetype": "text/x-python",
   "name": "python",
   "nbconvert_exporter": "python",
   "pygments_lexer": "ipython3",
   "version": "3.5.5"
  }
 },
 "nbformat": 4,
 "nbformat_minor": 2
}
