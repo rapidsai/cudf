{
 "cells": [
  {
   "cell_type": "markdown",
   "id": "f8ffbea7",
   "metadata": {},
   "source": [
    "# Working with missing data"
   ]
  },
  {
   "cell_type": "markdown",
   "id": "7e3ab093",
   "metadata": {},
   "source": [
    "In this section, we will discuss missing (also referred to as `NA`) values in cudf. cudf supports having missing values in all dtypes. These missing values are represented by `<NA>`. These values are also referenced as \"null values\"."
   ]
  },
  {
   "cell_type": "markdown",
   "id": "d970a34a",
   "metadata": {},
   "source": [
    "1. [How to Detect missing values](#How-to-Detect-missing-values)\n",
    "2. [Float dtypes and missing data](#Float-dtypes-and-missing-data)\n",
    "3. [Datetimes](#Datetimes)\n",
    "4. [Calculations with missing data](#Calculations-with-missing-data)\n",
    "5. [Sum/product of Null/nans](#Sum/product-of-Null/nans)\n",
    "6. [NA values in GroupBy](#NA-values-in-GroupBy)\n",
    "7. [Inserting missing data](#Inserting-missing-data)\n",
    "8. [Filling missing values: fillna](#Filling-missing-values:-fillna)\n",
    "9. [Filling with cudf Object](#Filling-with-cudf-Object)\n",
    "10. [Dropping axis labels with missing data: dropna](#Dropping-axis-labels-with-missing-data:-dropna)\n",
    "11. [Replacing generic values](#Replacing-generic-values)\n",
    "12. [String/regular expression replacement](#String/regular-expression-replacement)\n",
    "13. [Numeric replacement](#Numeric-replacement)"
   ]
  },
  {
   "cell_type": "markdown",
   "id": "8d657a82",
   "metadata": {},
   "source": [
    "## How to Detect missing values"
   ]
  },
  {
   "cell_type": "markdown",
   "id": "9ea9f672",
   "metadata": {},
   "source": [
    "To detect missing values, you can use `isna()` and `notna()` functions."
   ]
  },
  {
   "cell_type": "code",
   "execution_count": null,
   "id": "58050adb",
   "metadata": {},
   "outputs": [],
   "source": [
    "import cudf\n",
    "import numpy as np"
   ]
  },
  {
   "cell_type": "code",
   "execution_count": null,
   "id": "416d73da",
   "metadata": {},
   "outputs": [],
   "source": [
    "df = cudf.DataFrame({'a': [1, 2, None, 4], 'b':[0.1, None, 2.3, 17.17]})"
   ]
  },
  {
   "cell_type": "code",
   "execution_count": null,
   "id": "5dfc6bc3",
   "metadata": {},
   "outputs": [],
   "source": [
    "df"
   ]
  },
  {
   "cell_type": "code",
   "execution_count": null,
   "id": "4d7f7a6d",
   "metadata": {},
   "outputs": [],
   "source": [
    "df.isna()"
   ]
  },
  {
   "cell_type": "code",
   "execution_count": null,
   "id": "40edca67",
   "metadata": {},
   "outputs": [],
   "source": [
    "df['a'].notna()"
   ]
  },
  {
   "cell_type": "markdown",
   "id": "acdf29d7",
   "metadata": {},
   "source": [
    "One has to be mindful that in Python (and NumPy), the nan's don’t compare equal, but None's do. Note that cudf/NumPy uses the fact that `np.nan != np.nan`, and treats `None` like `np.nan`."
   ]
  },
  {
   "cell_type": "code",
   "execution_count": null,
   "id": "c269c1f5",
   "metadata": {},
   "outputs": [],
   "source": [
    "None == None"
   ]
  },
  {
   "cell_type": "code",
   "execution_count": null,
   "id": "99fb083a",
   "metadata": {},
   "outputs": [],
   "source": [
    "np.nan == np.nan"
   ]
  },
  {
   "cell_type": "markdown",
   "id": "4fdb8bc7",
   "metadata": {},
   "source": [
    "So as compared to above, a scalar equality comparison versus a None/np.nan doesn’t provide useful information."
   ]
  },
  {
   "cell_type": "code",
   "execution_count": null,
   "id": "630ef6bb",
   "metadata": {},
   "outputs": [],
   "source": [
    "df['b'] == np.nan"
   ]
  },
  {
   "cell_type": "code",
   "execution_count": null,
   "id": "8162e383",
   "metadata": {},
   "outputs": [],
   "source": [
    "s = cudf.Series([None, 1, 2])"
   ]
  },
  {
   "cell_type": "code",
   "execution_count": null,
   "id": "199775b3",
   "metadata": {},
   "outputs": [],
   "source": [
    "s"
   ]
  },
  {
   "cell_type": "code",
   "execution_count": null,
   "id": "cd09d80c",
   "metadata": {},
   "outputs": [],
   "source": [
    "s == None"
   ]
  },
  {
   "cell_type": "code",
   "execution_count": null,
   "id": "6b23bb0c",
   "metadata": {},
   "outputs": [],
   "source": [
    "s = cudf.Series([1, 2, np.nan], nan_as_null=False)"
   ]
  },
  {
   "cell_type": "code",
   "execution_count": null,
   "id": "cafb79ee",
   "metadata": {},
   "outputs": [],
   "source": [
    "s"
   ]
  },
  {
   "cell_type": "code",
   "execution_count": null,
   "id": "13363897",
   "metadata": {},
   "outputs": [],
   "source": [
    "s == np.nan"
   ]
  },
  {
   "cell_type": "markdown",
   "id": "208a3776",
   "metadata": {},
   "source": [
    "## Float dtypes and missing data"
   ]
  },
  {
   "cell_type": "markdown",
   "id": "2c174b88",
   "metadata": {},
   "source": [
    "Because ``NaN`` is a float, a column of integers with even one missing values is cast to floating-point dtype. However this doesn't happen by default.\n",
    "\n",
    "By default if a ``NaN`` value is passed to `Series` constructor, it is treated as `<NA>` value."
   ]
  },
  {
   "cell_type": "code",
   "execution_count": null,
   "id": "c59c3c54",
   "metadata": {},
   "outputs": [],
   "source": [
    "cudf.Series([1, 2, np.nan])"
   ]
  },
  {
   "cell_type": "markdown",
   "id": "a9eb2d9c",
   "metadata": {},
   "source": [
    "Hence to consider a ``NaN`` as ``NaN`` you will have to pass `nan_as_null=False` parameter into `Series` constructor."
   ]
  },
  {
   "cell_type": "code",
   "execution_count": null,
   "id": "ecc5ae92",
   "metadata": {},
   "outputs": [],
   "source": [
    "cudf.Series([1, 2, np.nan], nan_as_null=False)"
   ]
  },
  {
   "cell_type": "markdown",
   "id": "d1db7b08",
   "metadata": {},
   "source": [
    "## Datetimes"
   ]
  },
  {
   "cell_type": "markdown",
   "id": "548d3734",
   "metadata": {},
   "source": [
    "For `datetime64` types, cudf doesn't support having `NaT` values. Instead these values which are specific to numpy and pandas are considered as null values(`<NA>`) in cudf. The actual underlying value of `NaT` is `min(int64)` and cudf retains the underlying value when converting a cudf object to pandas object."
   ]
  },
  {
   "cell_type": "code",
   "execution_count": null,
   "id": "de70f244",
   "metadata": {},
   "outputs": [],
   "source": [
    "import pandas as pd\n",
    "datetime_series = cudf.Series([pd.Timestamp(\"20120101\"), pd.NaT, pd.Timestamp(\"20120101\")])\n",
    "datetime_series"
   ]
  },
  {
   "cell_type": "code",
   "execution_count": null,
   "id": "8411a914",
   "metadata": {},
   "outputs": [],
   "source": [
    "datetime_series.to_pandas()"
   ]
  },
  {
   "cell_type": "markdown",
   "id": "df664145",
   "metadata": {},
   "source": [
    "any operations on rows having `<NA>` values in `datetime` column will result in `<NA>` value at the same location in resulting column:"
   ]
  },
  {
   "cell_type": "code",
   "execution_count": null,
   "id": "829c32d0",
   "metadata": {},
   "outputs": [],
   "source": [
    "datetime_series - datetime_series"
   ]
  },
  {
   "cell_type": "markdown",
   "id": "aa8031ef",
   "metadata": {},
   "source": [
    "## Calculations with missing data"
   ]
  },
  {
   "cell_type": "markdown",
   "id": "c587fae2",
   "metadata": {},
   "source": [
    "Null values propagate naturally through arithmetic operations between pandas objects."
   ]
  },
  {
   "cell_type": "code",
   "execution_count": null,
   "id": "f8f2aec7",
   "metadata": {},
   "outputs": [],
   "source": [
    "df1 = cudf.DataFrame({'a':[1, None, 2, 3, None], 'b':cudf.Series([np.nan, 2, 3.2, 0.1, 1], nan_as_null=False)})"
   ]
  },
  {
   "cell_type": "code",
   "execution_count": null,
   "id": "0c8a3011",
   "metadata": {},
   "outputs": [],
   "source": [
    "df2 = cudf.DataFrame({'a':[1, 11, 2, 34, 10], 'b':cudf.Series([0.23, 22, 3.2, None, 1])})"
   ]
  },
  {
   "cell_type": "code",
   "execution_count": null,
   "id": "052f6c2b",
   "metadata": {},
   "outputs": [],
   "source": [
    "df1"
   ]
  },
  {
   "cell_type": "code",
   "execution_count": null,
   "id": "0fb0a083",
   "metadata": {},
   "outputs": [],
   "source": [
    "df2"
   ]
  },
  {
   "cell_type": "code",
   "execution_count": null,
   "id": "6f8152c0",
   "metadata": {},
   "outputs": [],
   "source": [
    "df1 + df2"
   ]
  },
  {
   "cell_type": "markdown",
   "id": "11170d49",
   "metadata": {},
   "source": [
    "While summing the data along a series, `NA` values will be treated as `0`."
   ]
  },
  {
   "cell_type": "code",
   "execution_count": null,
   "id": "45081790",
   "metadata": {},
   "outputs": [],
   "source": [
    "df1['a']"
   ]
  },
  {
   "cell_type": "code",
   "execution_count": null,
   "id": "39922658",
   "metadata": {},
   "outputs": [],
   "source": [
    "df1['a'].sum()"
   ]
  },
  {
   "cell_type": "markdown",
   "id": "6e99afe0",
   "metadata": {},
   "source": [
    "Since `NA` values are treated as `0`, the mean would result to 2 in this case `(1 + 0 + 2 + 3 + 0)/5 = 2`"
   ]
  },
  {
   "cell_type": "code",
   "execution_count": null,
   "id": "b2f16ddb",
   "metadata": {},
   "outputs": [],
   "source": [
    "df1['a'].mean()"
   ]
  },
  {
   "cell_type": "markdown",
   "id": "07f2ec5a",
   "metadata": {},
   "source": [
    "To preserve `NA` values in the above calculations, `sum` & `mean` support `skipna` parameter.\n",
    "By default it's value is\n",
    "set to `True`, we can change it to `False` to preserve `NA` values."
   ]
  },
  {
   "cell_type": "code",
   "execution_count": null,
   "id": "d4a463a0",
   "metadata": {},
   "outputs": [],
   "source": [
    "df1['a'].sum(skipna=False)"
   ]
  },
  {
   "cell_type": "code",
   "execution_count": null,
   "id": "a944c42e",
   "metadata": {},
   "outputs": [],
   "source": [
    "df1['a'].mean(skipna=False)"
   ]
  },
  {
   "cell_type": "markdown",
   "id": "fb8c8f18",
   "metadata": {},
   "source": [
    "Cumulative methods like `cumsum` and `cumprod` ignore `NA` values by default."
   ]
  },
  {
   "cell_type": "code",
   "execution_count": null,
   "id": "4f2a7306",
   "metadata": {},
   "outputs": [],
   "source": [
    "df1['a'].cumsum()"
   ]
  },
  {
   "cell_type": "markdown",
   "id": "c8f6054b",
   "metadata": {},
   "source": [
    "To preserve `NA` values in cumulative methods, provide `skipna=False`."
   ]
  },
  {
   "cell_type": "code",
   "execution_count": null,
   "id": "d4c46776",
   "metadata": {},
   "outputs": [],
   "source": [
    "df1['a'].cumsum(skipna=False)"
   ]
  },
  {
   "cell_type": "markdown",
   "id": "67077d65",
   "metadata": {},
   "source": [
    "## Sum/product of Null/nans"
   ]
  },
  {
   "cell_type": "markdown",
   "id": "ffbb9ca1",
   "metadata": {},
   "source": [
    "The sum of an empty or all-NA Series of a DataFrame is 0."
   ]
  },
  {
   "cell_type": "code",
   "execution_count": null,
   "id": "f430c9ce",
   "metadata": {},
   "outputs": [],
   "source": [
    "cudf.Series([np.nan], nan_as_null=False).sum()"
   ]
  },
  {
   "cell_type": "code",
   "execution_count": null,
   "id": "7fde514b",
   "metadata": {},
   "outputs": [],
   "source": [
    "cudf.Series([np.nan], nan_as_null=False).sum(skipna=False)"
   ]
  },
  {
   "cell_type": "code",
   "execution_count": null,
   "id": "56cedd17",
   "metadata": {},
   "outputs": [],
   "source": [
    "cudf.Series([], dtype='float64').sum()"
   ]
  },
  {
   "cell_type": "markdown",
   "id": "cb188adb",
   "metadata": {},
   "source": [
    "The product of an empty or all-NA Series of a DataFrame is 1."
   ]
  },
  {
   "cell_type": "code",
   "execution_count": null,
   "id": "d20bbbef",
   "metadata": {},
   "outputs": [],
   "source": [
    "cudf.Series([np.nan], nan_as_null=False).prod()"
   ]
  },
  {
   "cell_type": "code",
   "execution_count": null,
   "id": "75abbcfa",
   "metadata": {},
   "outputs": [],
   "source": [
    "cudf.Series([np.nan], nan_as_null=False).prod(skipna=False)"
   ]
  },
  {
   "cell_type": "code",
   "execution_count": null,
   "id": "becce0cc",
   "metadata": {},
   "outputs": [],
   "source": [
    "cudf.Series([], dtype='float64').prod()"
   ]
  },
  {
   "cell_type": "markdown",
   "id": "0e899e03",
   "metadata": {},
   "source": [
    "## NA values in GroupBy"
   ]
  },
  {
   "cell_type": "markdown",
   "id": "7fb20874",
   "metadata": {},
   "source": [
    "`NA` groups in GroupBy are automatically excluded. For example:"
   ]
  },
  {
   "cell_type": "code",
   "execution_count": null,
   "id": "1379037c",
   "metadata": {},
   "outputs": [],
   "source": [
    "df1"
   ]
  },
  {
   "cell_type": "code",
   "execution_count": null,
   "id": "d6b91e6f",
   "metadata": {},
   "outputs": [],
   "source": [
    "df1.groupby('a').mean()"
   ]
  },
  {
   "cell_type": "markdown",
   "id": "cb83fb11",
   "metadata": {},
   "source": [
    "It is also possible to include `NA` in groups by passing `dropna=False`"
   ]
  },
  {
   "cell_type": "code",
   "execution_count": null,
   "id": "768c3e50",
   "metadata": {},
   "outputs": [],
   "source": [
    "df1.groupby('a', dropna=False).mean()"
   ]
  },
  {
   "cell_type": "markdown",
   "id": "133816b4",
   "metadata": {},
   "source": [
    "## Inserting missing data"
   ]
  },
  {
   "cell_type": "markdown",
   "id": "306082ad",
   "metadata": {},
   "source": [
    "All dtypes support insertion of missing value by assignment. Any specific location in series can made null by assigning it to `None`."
   ]
  },
  {
   "cell_type": "code",
   "execution_count": null,
   "id": "7ddde1fe",
   "metadata": {},
   "outputs": [],
   "source": [
    "series = cudf.Series([1, 2, 3, 4])"
   ]
  },
  {
   "cell_type": "code",
   "execution_count": null,
   "id": "16e54597",
   "metadata": {},
   "outputs": [],
   "source": [
    "series"
   ]
  },
  {
   "cell_type": "code",
   "execution_count": null,
   "id": "f628f94d",
   "metadata": {},
   "outputs": [],
   "source": [
    "series[2] = None"
   ]
  },
  {
   "cell_type": "code",
   "execution_count": null,
   "id": "b30590b7",
   "metadata": {},
   "outputs": [],
   "source": [
    "series"
   ]
  },
  {
   "cell_type": "markdown",
   "id": "a1b123d0",
   "metadata": {},
   "source": [
    "## Filling missing values: fillna"
   ]
  },
  {
   "cell_type": "markdown",
   "id": "114aa23a",
   "metadata": {},
   "source": [
    "`fillna()` can fill in `NA` & `NaN` values with non-NA data."
   ]
  },
  {
   "cell_type": "code",
   "execution_count": null,
   "id": "59e22668",
   "metadata": {},
   "outputs": [],
   "source": [
    "df1"
   ]
  },
  {
   "cell_type": "code",
   "execution_count": null,
   "id": "05c221ee",
   "metadata": {},
   "outputs": [],
   "source": [
    "df1['b'].fillna(10)"
   ]
  },
  {
   "cell_type": "markdown",
   "id": "401f91b2",
   "metadata": {},
   "source": [
    "## Filling with cudf Object"
   ]
  },
  {
   "cell_type": "markdown",
   "id": "e79346d6",
   "metadata": {},
   "source": [
    "You can also fillna using a dict or Series that is alignable. The labels of the dict or index of the Series must match the columns of the frame you wish to fill. The use case of this is to fill a DataFrame with the mean of that column."
   ]
  },
  {
   "cell_type": "code",
   "execution_count": null,
   "id": "f52c5d8f",
   "metadata": {},
   "outputs": [],
   "source": [
    "import cupy as cp\n",
    "dff = cudf.DataFrame(cp.random.randn(10, 3), columns=list('ABC'))"
   ]
  },
  {
   "cell_type": "code",
   "execution_count": null,
   "id": "6affebe9",
   "metadata": {},
   "outputs": [],
   "source": [
    "dff.iloc[3:5, 0] = np.nan"
   ]
  },
  {
   "cell_type": "code",
   "execution_count": null,
   "id": "1ce1b96f",
   "metadata": {},
   "outputs": [],
   "source": [
    "dff.iloc[4:6, 1] = np.nan"
   ]
  },
  {
   "cell_type": "code",
   "execution_count": null,
   "id": "90829195",
   "metadata": {},
   "outputs": [],
   "source": [
    "dff.iloc[5:8, 2] = np.nan"
   ]
  },
  {
   "cell_type": "code",
   "execution_count": null,
   "id": "c0feac14",
   "metadata": {},
   "outputs": [],
   "source": [
    "dff"
   ]
  },
  {
   "cell_type": "code",
   "execution_count": null,
   "id": "a07c1260",
   "metadata": {},
   "outputs": [],
   "source": [
    "dff.fillna(dff.mean())"
   ]
  },
  {
   "cell_type": "code",
   "execution_count": null,
   "id": "9e70d61a",
   "metadata": {},
   "outputs": [],
   "source": [
    "dff.fillna(dff.mean()[1:3])"
   ]
  },
  {
   "cell_type": "markdown",
   "id": "0ace728d",
   "metadata": {},
   "source": [
    "## Dropping axis labels with missing data: dropna"
   ]
  },
  {
   "cell_type": "markdown",
   "id": "2ccd7115",
   "metadata": {},
   "source": [
    "Missing data can be excluded using `dropna()`:"
   ]
  },
  {
   "cell_type": "code",
   "execution_count": null,
   "id": "98c57be7",
   "metadata": {},
   "outputs": [],
   "source": [
    "df1"
   ]
  },
  {
   "cell_type": "code",
   "execution_count": null,
   "id": "bc3f273a",
   "metadata": {},
   "outputs": [],
   "source": [
    "df1.dropna(axis=0)"
   ]
  },
  {
   "cell_type": "code",
   "execution_count": null,
   "id": "a48d4de0",
   "metadata": {},
   "outputs": [],
   "source": [
    "df1.dropna(axis=1)"
   ]
  },
  {
   "cell_type": "markdown",
   "id": "0b1954f9",
   "metadata": {},
   "source": [
    "An equivalent `dropna()` is available for Series."
   ]
  },
  {
   "cell_type": "code",
   "execution_count": null,
   "id": "2dd8f660",
   "metadata": {},
   "outputs": [],
   "source": [
    "df1['a'].dropna()"
   ]
  },
  {
   "cell_type": "markdown",
   "id": "121eb6d7",
   "metadata": {},
   "source": [
    "## Replacing generic values"
   ]
  },
  {
   "cell_type": "markdown",
   "id": "3cc4c5f1",
   "metadata": {},
   "source": [
    "Often times we want to replace arbitrary values with other values.\n",
    "\n",
    "`replace()` in Series and `replace()` in DataFrame provides an efficient yet flexible way to perform such replacements."
   ]
  },
  {
   "cell_type": "code",
   "execution_count": null,
   "id": "e6c14e8a",
   "metadata": {},
   "outputs": [],
   "source": [
    "series = cudf.Series([0.0, 1.0, 2.0, 3.0, 4.0])"
   ]
  },
  {
   "cell_type": "code",
   "execution_count": null,
   "id": "a852f0cb",
   "metadata": {},
   "outputs": [],
   "source": [
    "series"
   ]
  },
  {
   "cell_type": "code",
   "execution_count": null,
   "id": "f6ac12eb",
   "metadata": {},
   "outputs": [],
   "source": [
    "series.replace(0, 5)"
   ]
  },
  {
   "cell_type": "markdown",
   "id": "a6e1b6d7",
   "metadata": {},
   "source": [
    "We can also replace any value with a `<NA>` value."
   ]
  },
  {
   "cell_type": "code",
   "execution_count": null,
   "id": "f0156bff",
   "metadata": {},
   "outputs": [],
   "source": [
    "series.replace(0, None)"
   ]
  },
  {
   "cell_type": "markdown",
   "id": "6673eefb",
   "metadata": {},
   "source": [
    "You can replace a list of values by a list of other values:"
   ]
  },
  {
   "cell_type": "code",
   "execution_count": null,
   "id": "f3110f5b",
   "metadata": {},
   "outputs": [],
   "source": [
    "series.replace([0, 1, 2, 3, 4], [4, 3, 2, 1, 0])"
   ]
  },
  {
   "cell_type": "markdown",
   "id": "61521e8b",
   "metadata": {},
   "source": [
    "You can also specify a mapping dict:"
   ]
  },
  {
   "cell_type": "code",
   "execution_count": null,
   "id": "45862d05",
   "metadata": {},
   "outputs": [],
   "source": [
    "series.replace({0: 10, 1: 100})"
   ]
  },
  {
   "cell_type": "markdown",
   "id": "04a34549",
   "metadata": {},
   "source": [
    "For a DataFrame, you can specify individual values by column:"
   ]
  },
  {
   "cell_type": "code",
   "execution_count": null,
   "id": "348caa64",
   "metadata": {},
   "outputs": [],
   "source": [
    "df = cudf.DataFrame({\"a\": [0, 1, 2, 3, 4], \"b\": [5, 6, 7, 8, 9]})"
   ]
  },
  {
   "cell_type": "code",
   "execution_count": null,
   "id": "cca41ec4",
   "metadata": {},
   "outputs": [],
   "source": [
    "df"
   ]
  },
  {
   "cell_type": "code",
   "execution_count": null,
   "id": "64334693",
   "metadata": {},
   "outputs": [],
   "source": [
    "df.replace({\"a\": 0, \"b\": 5}, 100)"
   ]
  },
  {
   "cell_type": "markdown",
   "id": "2f0ceec7",
   "metadata": {},
   "source": [
    "## String/regular expression replacement"
   ]
  },
  {
   "cell_type": "markdown",
   "id": "c6f44740",
   "metadata": {},
   "source": [
    "cudf supports replacing string values using `replace` API:"
   ]
  },
  {
   "cell_type": "code",
   "execution_count": null,
   "id": "031d3533",
   "metadata": {},
   "outputs": [],
   "source": [
    "d = {\"a\": list(range(4)), \"b\": list(\"ab..\"), \"c\": [\"a\", \"b\", None, \"d\"]}"
   ]
  },
  {
   "cell_type": "code",
   "execution_count": null,
   "id": "12b41efb",
   "metadata": {},
   "outputs": [],
   "source": [
    "df = cudf.DataFrame(d)"
   ]
  },
  {
   "cell_type": "code",
   "execution_count": null,
   "id": "d450df49",
   "metadata": {},
   "outputs": [],
   "source": [
    "df"
   ]
  },
  {
   "cell_type": "code",
   "execution_count": null,
   "id": "f823bc46",
   "metadata": {},
   "outputs": [],
   "source": [
    "df.replace(\".\", \"A Dot\")"
   ]
  },
  {
   "cell_type": "code",
   "execution_count": null,
   "id": "bc52f6e9",
   "metadata": {},
   "outputs": [],
   "source": [
    "df.replace([\".\", \"b\"], [\"A Dot\", None])"
   ]
  },
  {
   "cell_type": "markdown",
   "id": "7c1087be",
   "metadata": {},
   "source": [
    "Replace a few different values (list -> list):"
   ]
  },
  {
   "cell_type": "code",
   "execution_count": null,
   "id": "7e23eba9",
   "metadata": {},
   "outputs": [],
   "source": [
    "df.replace([\"a\", \".\"], [\"b\", \"--\"])"
   ]
  },
  {
   "cell_type": "markdown",
   "id": "42845a9c",
   "metadata": {},
   "source": [
    "Only search in column 'b' (dict -> dict):"
   ]
  },
  {
   "cell_type": "code",
   "execution_count": null,
   "id": "d2e79805",
   "metadata": {},
   "outputs": [],
   "source": [
    "df.replace({\"b\": \".\"}, {\"b\": \"replacement value\"})"
   ]
  },
  {
   "cell_type": "markdown",
   "id": "774b42a6",
   "metadata": {},
   "source": [
    "## Numeric replacement"
   ]
  },
  {
   "cell_type": "markdown",
   "id": "1c1926ac",
   "metadata": {},
   "source": [
    "`replace()` can also be used similar to `fillna()`."
   ]
  },
  {
   "cell_type": "code",
   "execution_count": null,
   "id": "355a2f0d",
   "metadata": {},
   "outputs": [],
   "source": [
    "df = cudf.DataFrame(cp.random.randn(10, 2))"
   ]
  },
  {
   "cell_type": "code",
   "execution_count": null,
   "id": "d9eed372",
   "metadata": {},
   "outputs": [],
   "source": [
    "df[np.random.rand(df.shape[0]) > 0.5] = 1.5"
   ]
  },
  {
   "cell_type": "code",
   "execution_count": null,
   "id": "ae944244",
   "metadata": {},
   "outputs": [],
   "source": [
    "df.replace(1.5, None)"
   ]
  },
  {
   "cell_type": "markdown",
   "id": "0f32607c",
   "metadata": {},
   "source": [
    "Replacing more than one value is possible by passing a list."
   ]
  },
  {
   "cell_type": "code",
   "execution_count": null,
   "id": "59b81c60",
   "metadata": {},
   "outputs": [],
   "source": [
    "df00 = df.iloc[0, 0]"
   ]
  },
  {
   "cell_type": "code",
   "execution_count": null,
   "id": "01a71d4c",
   "metadata": {},
   "outputs": [],
   "source": [
    "df.replace([1.5, df00], [5, 10])"
   ]
  },
  {
   "cell_type": "markdown",
   "id": "1080e97b",
   "metadata": {},
   "source": [
    "You can also operate on the DataFrame in place:"
   ]
  },
  {
   "cell_type": "code",
   "execution_count": null,
   "id": "5f0859d7",
   "metadata": {},
   "outputs": [],
   "source": [
    "df.replace(1.5, None, inplace=True)"
   ]
  },
  {
   "cell_type": "code",
   "execution_count": null,
   "id": "5cf28369",
   "metadata": {},
   "outputs": [],
   "source": [
    "df"
   ]
  }
 ],
 "metadata": {
  "kernelspec": {
   "display_name": "Python 3 (ipykernel)",
   "language": "python",
   "name": "python3"
  }
 },
 "nbformat": 4,
 "nbformat_minor": 5
}
