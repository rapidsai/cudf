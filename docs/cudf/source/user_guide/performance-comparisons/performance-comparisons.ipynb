{
 "cells": [
  {
   "cell_type": "markdown",
   "metadata": {},
   "source": [
    "# Performance comparison"
   ]
  },
  {
   "attachments": {},
   "cell_type": "markdown",
   "metadata": {},
   "source": [
    "This notebook compares the performance of `cuDF` and `pandas`. The comparisons performed are on identical data sizes. This notebook primarily showcases the factor\n",
    "of speedups users can have when the similar `pandas` APIs are run on GPUs using `cudf`.\n",
    "\n",
    "The hardware details used to run these performance comparisons are at the end of this page.\n",
    "\n",
    "**Note**: This notebook is written to measure performance on NVIDIA GPUs with large memory. If running on hardware with lower memory, please consider lowering the `num_rows` values. Performance results may vary by data size, as well as the CPU and GPU used."
   ]
  },
  {
   "cell_type": "code",
   "execution_count": null,
   "metadata": {
    "tags": []
   },
   "outputs": [],
   "source": [
    "import os\n",
    "import time\n",
    "import timeit\n",
    "from io import BytesIO\n",
    "\n",
    "import matplotlib.pyplot as plt\n",
    "import numpy as np\n",
    "import pandas as pd\n",
    "\n",
    "import cudf\n",
    "print(f\"{cudf.__version__=}\")"
   ]
  },
  {
   "cell_type": "code",
   "execution_count": null,
   "metadata": {
    "tags": []
   },
   "outputs": [],
   "source": [
    "np.random.seed(0)"
   ]
  },
  {
   "cell_type": "markdown",
   "metadata": {
    "tags": []
   },
   "source": [
    "## Concat, count & joins performance"
   ]
  },
  {
   "cell_type": "code",
   "execution_count": null,
   "metadata": {},
   "outputs": [],
   "source": [
    "timeit_number = 30\n",
    "num_rows = 300_000_000\n",
    "sub_sample = int(num_rows / 3)"
   ]
  },
  {
   "cell_type": "code",
   "execution_count": null,
   "metadata": {
    "tags": []
   },
   "outputs": [],
   "source": [
    "pdf = pd.DataFrame(\n",
    "    {\n",
    "        \"numbers\": np.random.randint(-1000, 1000, num_rows, dtype=\"int64\"),\n",
    "        \"business\": np.random.choice(\n",
    "            [\"McD\", \"Buckees\", \"Walmart\", \"Costco\"], size=num_rows\n",
    "        ),\n",
    "    }\n",
    ")\n",
    "pdf"
   ]
  },
  {
   "cell_type": "code",
   "execution_count": null,
   "metadata": {
    "tags": []
   },
   "outputs": [],
   "source": [
    "gdf = cudf.from_pandas(pdf)\n",
    "gdf"
   ]
  },
  {
   "cell_type": "code",
   "execution_count": null,
   "metadata": {
    "tags": []
   },
   "outputs": [],
   "source": [
    "def timeit_pandas_cudf(pd_obj, gd_obj, func, **kwargs):\n",
    "    \"\"\"\n",
    "    A utility function to measure execution time of an\n",
    "    API(`func`) in pandas & cudf.\n",
    "\n",
    "    Parameters\n",
    "    ----------\n",
    "    pd_obj : Pandas object\n",
    "    gd_obj : cuDF object\n",
    "    func : callable\n",
    "    \"\"\"\n",
    "    pandas_time = timeit.timeit(lambda: func(pd_obj), **kwargs)\n",
    "    cudf_time = timeit.timeit(lambda: func(gd_obj), **kwargs)\n",
    "    return pandas_time, cudf_time"
   ]
  },
  {
   "cell_type": "code",
   "execution_count": null,
   "metadata": {
    "tags": []
   },
   "outputs": [],
   "source": [
    "pandas_value_counts, cudf_value_counts = timeit_pandas_cudf(\n",
    "    pdf, gdf, lambda df: df.value_counts(), number=timeit_number\n",
    ")"
   ]
  },
  {
   "cell_type": "code",
   "execution_count": null,
   "metadata": {
    "tags": []
   },
   "outputs": [],
   "source": [
    "pdf = pdf.head(sub_sample)\n",
    "gdf = gdf.head(sub_sample)"
   ]
  },
  {
   "cell_type": "code",
   "execution_count": null,
   "metadata": {
    "tags": []
   },
   "outputs": [],
   "source": [
    "pandas_concat = timeit.timeit(lambda: pd.concat([pdf, pdf, pdf]), number=timeit_number)"
   ]
  },
  {
   "cell_type": "code",
   "execution_count": null,
   "metadata": {
    "tags": []
   },
   "outputs": [],
   "source": [
    "cudf_concat = timeit.timeit(lambda: cudf.concat([gdf, gdf, gdf]), number=timeit_number)"
   ]
  },
  {
   "cell_type": "code",
   "execution_count": null,
   "metadata": {
    "tags": []
   },
   "outputs": [],
   "source": [
    "pandas_groupby, cudf_groupby = timeit_pandas_cudf(\n",
    "    pdf,\n",
    "    gdf,\n",
    "    lambda df: df.groupby(\"business\").agg([\"min\", \"max\", \"mean\"]),\n",
    "    number=timeit_number,\n",
    ")"
   ]
  },
  {
   "cell_type": "code",
   "execution_count": null,
   "metadata": {
    "tags": []
   },
   "outputs": [],
   "source": [
    "pdf = pd.DataFrame(\n",
    "    {\n",
    "        \"numbers\": np.random.randint(-1000, 1000, sub_sample, dtype=\"int64\"),\n",
    "        \"business\": np.random.choice(\n",
    "            [\"McD\", \"Buckees\", \"Walmart\", \"Costco\"], size=sub_sample\n",
    "        ),\n",
    "    }\n",
    ")\n",
    "gdf = cudf.from_pandas(pdf)"
   ]
  },
  {
   "cell_type": "code",
   "execution_count": null,
   "metadata": {
    "tags": []
   },
   "outputs": [],
   "source": [
    "pandas_merge, cudf_merge = timeit_pandas_cudf(\n",
    "    pdf, gdf, lambda df: df.merge(df), number=timeit_number\n",
    ")"
   ]
  },
  {
   "cell_type": "code",
   "execution_count": null,
   "metadata": {
    "tags": []
   },
   "outputs": [],
   "source": [
    "performance_df = pd.DataFrame(\n",
    "    {\n",
    "        \"cudf speedup vs. pandas\": [\n",
    "            pandas_value_counts / cudf_value_counts,\n",
    "            pandas_concat / cudf_concat,\n",
    "            pandas_groupby / cudf_groupby,\n",
    "            pandas_merge / cudf_merge,\n",
    "        ],\n",
    "    },\n",
    "    index=[\"value_counts\", \"concat\", \"groupby\", \"merge\"],\n",
    ")\n",
    "performance_df"
   ]
  },
  {
   "cell_type": "code",
   "execution_count": null,
   "metadata": {},
   "outputs": [],
   "source": [
    "def performance_plot(df, xlabel=None):\n",
    "    # ylim is 20% above max value\n",
    "    ylim_max = df[\"cudf speedup vs. pandas\"].max() + (df[\"cudf speedup vs. pandas\"].max() / 20)\n",
    "    ax = df.plot.bar(\n",
    "        color=\"#7400ff\",\n",
    "        ylim=(1, ylim_max),\n",
    "        rot=0,\n",
    "        xlabel=xlabel,\n",
    "        ylabel=\"Speedup factor\",\n",
    "    )\n",
    "    ax.bar_label(ax.containers[0], fmt=\"%.0f\")\n",
    "    plt.show()"
   ]
  },
  {
   "cell_type": "code",
   "execution_count": null,
   "metadata": {},
   "outputs": [],
   "source": [
    "performance_plot(performance_df, xlabel=\"Operation\")"
   ]
  },
  {
   "cell_type": "code",
   "execution_count": null,
   "metadata": {
    "tags": []
   },
   "outputs": [],
   "source": [
    "# Cleaning up used memory for later benchmarks\n",
    "del pdf\n",
    "del gdf\n",
    "import gc\n",
    "\n",
    "_ = gc.collect()"
   ]
  },
  {
   "cell_type": "markdown",
   "metadata": {},
   "source": [
    "## Strings Performance"
   ]
  },
  {
   "cell_type": "code",
   "execution_count": null,
   "metadata": {},
   "outputs": [],
   "source": [
    "timeit_number = 20\n",
    "num_rows = 300_000_000"
   ]
  },
  {
   "cell_type": "code",
   "execution_count": null,
   "metadata": {
    "tags": []
   },
   "outputs": [],
   "source": [
    "pd_series = pd.Series(\n",
    "    np.random.choice(\n",
    "        [\"123\", \"56.234\", \"Walmart\", \"Costco\", \"rapids ai\"], size=num_rows\n",
    "    )\n",
    ")"
   ]
  },
  {
   "cell_type": "code",
   "execution_count": null,
   "metadata": {
    "tags": []
   },
   "outputs": [],
   "source": [
    "gd_series = cudf.from_pandas(pd_series)"
   ]
  },
  {
   "cell_type": "code",
   "execution_count": null,
   "metadata": {
    "tags": []
   },
   "outputs": [],
   "source": [
    "pandas_upper, cudf_upper = timeit_pandas_cudf(\n",
    "    pd_series, gd_series, lambda s: s.str.upper(), number=timeit_number\n",
    ")"
   ]
  },
  {
   "cell_type": "code",
   "execution_count": null,
   "metadata": {
    "tags": []
   },
   "outputs": [],
   "source": [
    "pandas_contains, cudf_contains = timeit_pandas_cudf(\n",
    "    pd_series, gd_series, lambda s: s.str.contains(r\"[0-9][a-z]\"), number=timeit_number\n",
    ")"
   ]
  },
  {
   "cell_type": "code",
   "execution_count": null,
   "metadata": {},
   "outputs": [],
   "source": [
    "pandas_isalpha, cudf_isalpha = timeit_pandas_cudf(\n",
    "    pd_series, gd_series, lambda s: s.str.isalpha(), number=timeit_number\n",
    ")"
   ]
  },
  {
   "cell_type": "code",
   "execution_count": null,
   "metadata": {
    "tags": []
   },
   "outputs": [],
   "source": [
    "performance_df = pd.DataFrame(\n",
    "    {\n",
    "        \"cudf speedup vs. pandas\": [\n",
    "            pandas_upper / cudf_upper,\n",
    "            pandas_contains / cudf_contains,\n",
    "            pandas_isalpha / cudf_isalpha,\n",
    "        ],\n",
    "    },\n",
    "    index=[\"upper\", \"contains\", \"isalpha\"],\n",
    ")\n",
    "performance_df"
   ]
  },
  {
   "cell_type": "code",
   "execution_count": null,
   "metadata": {},
   "outputs": [],
   "source": [
    "performance_plot(performance_df, xlabel=\"String method\")"
   ]
  },
  {
   "attachments": {},
   "cell_type": "markdown",
   "metadata": {},
   "source": [
    "## User-defined function (UDF) performance (with JIT overhead)"
   ]
  },
  {
   "attachments": {},
   "cell_type": "markdown",
   "metadata": {},
   "source": [
    "The first UDF runs include JIT compilation overhead, due to which the performance of first run and average of next few runs are compared separately."
   ]
  },
  {
   "cell_type": "code",
   "execution_count": null,
   "metadata": {},
   "outputs": [],
   "source": [
    "num_rows = 10_000_000"
   ]
  },
  {
   "cell_type": "code",
   "execution_count": null,
   "metadata": {
    "tags": []
   },
   "outputs": [],
   "source": [
    "pdf_age = pd.DataFrame(\n",
    "    {\n",
    "        \"age\": np.random.randint(0, 100, num_rows),\n",
    "    }\n",
    ")\n",
    "pdf_age"
   ]
  },
  {
   "cell_type": "code",
   "execution_count": null,
   "metadata": {
    "tags": []
   },
   "outputs": [],
   "source": [
    "gdf_age = cudf.from_pandas(pdf_age)\n",
    "gdf_age"
   ]
  },
  {
   "cell_type": "code",
   "execution_count": null,
   "metadata": {
    "tags": []
   },
   "outputs": [],
   "source": [
    "def age_udf(row):\n",
    "    if row[\"age\"] < 18:\n",
    "        return 0\n",
    "    elif 18 <= row[\"age\"] < 20:\n",
    "        return 1\n",
    "    elif 20 <= row[\"age\"] < 30:\n",
    "        return 2\n",
    "    elif 30 <= row[\"age\"] < 40:\n",
    "        return 3\n",
    "    elif 40 <= row[\"age\"] < 50:\n",
    "        return 4\n",
    "    elif 50 <= row[\"age\"] < 60:\n",
    "        return 5\n",
    "    elif 60 <= row[\"age\"] < 70:\n",
    "        return 6\n",
    "    else:\n",
    "        return 7"
   ]
  },
  {
   "cell_type": "code",
   "execution_count": null,
   "metadata": {},
   "outputs": [],
   "source": [
    "pandas_int_udf, cudf_int_udf = timeit_pandas_cudf(\n",
    "    pdf_age, gdf_age, lambda df: df.apply(age_udf, axis=1), number=1\n",
    ")"
   ]
  },
  {
   "cell_type": "code",
   "execution_count": null,
   "metadata": {},
   "outputs": [],
   "source": [
    "def str_isupper_udf(row):\n",
    "    if row.isupper():\n",
    "        return 0\n",
    "    else:\n",
    "        return 1"
   ]
  },
  {
   "cell_type": "code",
   "execution_count": null,
   "metadata": {},
   "outputs": [],
   "source": [
    "pd_series = pd.Series(\n",
    "    np.random.choice([\"ABC\", \"abc\", \"hello world\", \"AI\"], size=num_rows),\n",
    "    name=\"strings\",\n",
    ")\n",
    "pd_series"
   ]
  },
  {
   "cell_type": "code",
   "execution_count": null,
   "metadata": {},
   "outputs": [],
   "source": [
    "gd_series = cudf.from_pandas(pd_series)\n",
    "gd_series"
   ]
  },
  {
   "cell_type": "code",
   "execution_count": null,
   "metadata": {},
   "outputs": [],
   "source": [
    "pandas_str_udf, cudf_str_udf = timeit_pandas_cudf(\n",
    "    pd_series, gd_series, lambda s: s.apply(str_isupper_udf), number=1\n",
    ")"
   ]
  },
  {
   "cell_type": "code",
   "execution_count": null,
   "metadata": {
    "tags": []
   },
   "outputs": [],
   "source": [
    "performance_df = pd.DataFrame(\n",
    "    {\n",
    "        \"cudf speedup vs. pandas\": [\n",
    "            pandas_int_udf / cudf_int_udf,\n",
    "            pandas_str_udf / cudf_str_udf,\n",
    "        ]\n",
    "    },\n",
    "    index=[\"Numeric\", \"String\"],\n",
    ")\n",
    "performance_df"
   ]
  },
  {
   "cell_type": "markdown",
   "metadata": {},
   "source": [
    "Below is the plot showing performance speedup in case of Numeric UDFs & String UDFs on their first runs."
   ]
  },
  {
   "cell_type": "code",
   "execution_count": null,
   "metadata": {},
   "outputs": [],
   "source": [
    "performance_plot(performance_df, xlabel=\"UDF Kind\")"
   ]
  },
  {
   "attachments": {},
   "cell_type": "markdown",
   "metadata": {},
   "source": [
    "## User-defined function (UDF) performance (without JIT overhead)"
   ]
  },
  {
   "cell_type": "code",
   "execution_count": null,
   "metadata": {},
   "outputs": [],
   "source": [
    "timeit_number = 10"
   ]
  },
  {
   "cell_type": "code",
   "execution_count": null,
   "metadata": {
    "tags": []
   },
   "outputs": [],
   "source": [
    "pandas_int_udf, cudf_int_udf = timeit_pandas_cudf(\n",
    "    pdf_age, gdf_age, lambda df: df.apply(age_udf, axis=1), number=timeit_number\n",
    ")"
   ]
  },
  {
   "cell_type": "code",
   "execution_count": null,
   "metadata": {},
   "outputs": [],
   "source": [
    "pandas_str_udf, cudf_str_udf = timeit_pandas_cudf(\n",
    "    pd_series, gd_series, lambda s: s.apply(str_isupper_udf), number=timeit_number\n",
    ")"
   ]
  },
  {
   "cell_type": "code",
   "execution_count": null,
   "metadata": {
    "tags": []
   },
   "outputs": [],
   "source": [
    "performance_df = pd.DataFrame(\n",
    "    {\n",
    "        \"cudf speedup vs. pandas\": [\n",
    "            pandas_int_udf / cudf_int_udf,\n",
    "            pandas_str_udf / cudf_str_udf,\n",
    "        ]\n",
    "    },\n",
    "    index=[\"Numeric\", \"String\"],\n",
    ")\n",
    "performance_df"
   ]
  },
  {
   "cell_type": "markdown",
   "metadata": {},
   "source": [
    "Below is the plot showing performance speedup in case of Numeric UDFs & String UDFs on their consequent runs. In this case the speedup is massive because of no JIT overhead present."
   ]
  },
  {
   "cell_type": "code",
   "execution_count": null,
   "metadata": {},
   "outputs": [],
   "source": [
    "performance_plot(performance_df, xlabel=\"UDF Kind\")"
   ]
  },
  {
   "cell_type": "markdown",
   "metadata": {},
   "source": [
    "## UDF Performance in GroupBy"
   ]
  },
  {
   "cell_type": "code",
   "execution_count": null,
   "metadata": {},
   "outputs": [],
   "source": [
    "num_rows = 100_000_000\n",
    "timeit_number = 10"
   ]
  },
  {
   "cell_type": "code",
   "execution_count": null,
   "metadata": {
    "tags": []
   },
   "outputs": [],
   "source": [
    "pdf = pd.DataFrame()\n",
    "pdf[\"key\"] = np.random.randint(0, 2, num_rows)\n",
    "pdf[\"val\"] = np.random.randint(0, 7, num_rows)\n",
    "\n",
    "\n",
    "def custom_formula_udf(df):\n",
    "    df[\"out\"] = df[\"key\"] * df[\"val\"] - 10\n",
    "    return df\n",
    "\n",
    "\n",
    "gdf = cudf.from_pandas(pdf)"
   ]
  },
  {
   "cell_type": "code",
   "execution_count": null,
   "metadata": {
    "tags": []
   },
   "outputs": [],
   "source": [
    "pandas_udf_groupby, cudf_udf_groupby = timeit_pandas_cudf(\n",
    "    pdf,\n",
    "    gdf,\n",
    "    lambda df: df.groupby([\"key\"], group_keys=False).apply(custom_formula_udf),\n",
    "    number=timeit_number,\n",
    ")"
   ]
  },
  {
   "cell_type": "code",
   "execution_count": null,
   "metadata": {
    "tags": []
   },
   "outputs": [],
   "source": [
    "performance_df = pd.DataFrame(\n",
    "    {\"cudf speedup vs. pandas\": [pandas_udf_groupby / cudf_udf_groupby]},\n",
    "    index=[\"Grouped UDF\"],\n",
    ")\n",
    "performance_df"
   ]
  },
  {
   "cell_type": "code",
   "execution_count": null,
   "metadata": {},
   "outputs": [],
   "source": [
    "performance_plot(performance_df)"
   ]
  },
  {
   "cell_type": "markdown",
   "metadata": {},
   "source": [
    "# System Configuration"
   ]
  },
  {
   "cell_type": "markdown",
   "metadata": {},
   "source": [
    "## CPU Configuration"
   ]
  },
  {
   "cell_type": "code",
   "execution_count": null,
   "metadata": {},
   "outputs": [],
   "source": [
    "!lscpu"
   ]
  },
  {
   "cell_type": "markdown",
   "metadata": {},
   "source": [
    "## GPU Configuration"
   ]
  },
  {
   "cell_type": "code",
   "execution_count": null,
   "metadata": {},
   "outputs": [],
   "source": [
    "!nvidia-smi"
   ]
  }
 ],
 "metadata": {
  "kernelspec": {
   "display_name": "Python 3 (ipykernel)",
   "language": "python",
   "name": "python3"
  },
  "language_info": {
   "codemirror_mode": {
    "name": "ipython",
    "version": 3
   },
   "file_extension": ".py",
   "mimetype": "text/x-python",
   "name": "python",
   "nbconvert_exporter": "python",
   "pygments_lexer": "ipython3",
   "version": "3.10.13"
  },
  "vscode": {
   "interpreter": {
    "hash": "b4f3463dcc83b00b9c65791e378b11fabec52613a2a7831cd4af76c548ff6047"
   }
  }
 },
 "nbformat": 4,
 "nbformat_minor": 4
}
