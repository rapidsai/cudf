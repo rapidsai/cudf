{
 "cells": [
  {
   "cell_type": "markdown",
   "id": "77149e57",
   "metadata": {},
   "source": [
    "# Overview of User Defined Functions with cuDF"
   ]
  },
  {
   "cell_type": "code",
   "execution_count": null,
   "id": "0c6b65ce",
   "metadata": {},
   "outputs": [],
   "source": [
    "import cudf\n",
    "from cudf.datasets import randomdata\n",
    "import numpy as np"
   ]
  },
  {
   "cell_type": "markdown",
   "id": "8826af13",
   "metadata": {},
   "source": [
    "Like many tabular data processing APIs, cuDF provides a range of composable, DataFrame style operators. While out of the box functions are flexible and useful, it is sometimes necessary to write custom code, or user-defined functions (UDFs), that can be applied to rows, columns, and other groupings of the cells making up the DataFrame.\n",
    "\n",
    "In conjunction with the broader GPU PyData ecosystem, cuDF provides interfaces to run UDFs on a variety of data structures. Currently, we can only execute UDFs on numeric, boolean, datetime, and timedelta typed data (support for strings is being planned). This guide covers writing and executing UDFs on the following data structures:\n",
    "\n",
    "- Series\n",
    "- DataFrame\n",
    "- Rolling Windows Series\n",
    "- Groupby DataFrames\n",
    "- CuPy NDArrays\n",
    "- Numba DeviceNDArrays\n",
    "\n",
    "It also demonstrates cuDF's default null handling behavior, and how to write UDFs that can interact with null values."
   ]
  },
  {
   "cell_type": "markdown",
   "id": "32a8f4fb",
   "metadata": {},
   "source": [
    "## Series UDFs\n",
    "\n",
    "You can execute UDFs on Series in two ways:\n",
    "\n",
    "- Writing a standard python function and using `cudf.Series.apply`\n",
    "- Writing a Numba kernel and using Numba's `forall` syntax\n",
    "\n",
    "Using `apply` or is simpler, but writing a Numba kernel offers the flexibility to build more complex functions (we'll be writing only simple kernels in this guide)."
   ]
  },
  {
   "cell_type": "markdown",
   "id": "49399a84",
   "metadata": {},
   "source": [
    "### `cudf.Series.apply`"
   ]
  },
  {
   "cell_type": "markdown",
   "id": "0a209ea2",
   "metadata": {},
   "source": [
    "cuDF provides a similar API to `pandas.Series.apply` for applying scalar UDFs to series objects. Here is a very basic example."
   ]
  },
  {
   "cell_type": "code",
   "execution_count": null,
   "id": "e28d5b82",
   "metadata": {},
   "outputs": [],
   "source": [
    "# Create a cuDF series\n",
    "sr = cudf.Series([1, 2, 3])"
   ]
  },
  {
   "cell_type": "markdown",
   "id": "48a9fa5e",
   "metadata": {},
   "source": [
    "UDFs destined for `cudf.Series.apply` might look something like this:"
   ]
  },
  {
   "cell_type": "code",
   "execution_count": null,
   "id": "96aeb19f",
   "metadata": {},
   "outputs": [],
   "source": [
    "# define a scalar function\n",
    "def f(x):\n",
    "    return x + 1"
   ]
  },
  {
   "cell_type": "markdown",
   "id": "e61d0169",
   "metadata": {},
   "source": [
    "`cudf.Series.apply` is called like `pd.Series.apply` and returns a new `Series` object:"
   ]
  },
  {
   "cell_type": "code",
   "execution_count": null,
   "id": "8ca08834",
   "metadata": {},
   "outputs": [],
   "source": [
    "sr.apply(f)"
   ]
  },
  {
   "cell_type": "markdown",
   "id": "c98dab03",
   "metadata": {},
   "source": [
    "### Functions with Additional Scalar Arguments"
   ]
  },
  {
   "cell_type": "markdown",
   "id": "2aa3df6f",
   "metadata": {},
   "source": [
    "In addition, `cudf.Series.apply` supports `args=` just like pandas, allowing you to write UDFs that accept an arbitrary number of scalar arguments. Here is an example of such a function and it's API call in both pandas and cuDF:"
   ]
  },
  {
   "cell_type": "code",
   "execution_count": null,
   "id": "8d156d01",
   "metadata": {},
   "outputs": [],
   "source": [
    "def g(x, const):\n",
    "    return x + const"
   ]
  },
  {
   "cell_type": "code",
   "execution_count": null,
   "id": "1dee82d7",
   "metadata": {},
   "outputs": [],
   "source": [
    "# cuDF apply\n",
    "sr.apply(g, args=(42,))"
   ]
  },
  {
   "cell_type": "markdown",
   "id": "22739e28",
   "metadata": {},
   "source": [
    "As a final note, `**kwargs` is not yet supported."
   ]
  },
  {
   "cell_type": "markdown",
   "id": "afbf33dc",
   "metadata": {},
   "source": [
    "### Nullable Data"
   ]
  },
  {
   "cell_type": "markdown",
   "id": "5dc06e8c",
   "metadata": {},
   "source": [
    "The null value `NA` an propagates through unary and binary operations. Thus, `NA + 1`, `abs(NA)`, and `NA == NA` all return `NA`. To make this concrete, let's look at the same example from above, this time using nullable data:"
   ]
  },
  {
   "cell_type": "code",
   "execution_count": null,
   "id": "bda261dd",
   "metadata": {},
   "outputs": [],
   "source": [
    "# Create a cuDF series with nulls\n",
    "sr = cudf.Series([1, cudf.NA, 3])\n",
    "sr"
   ]
  },
  {
   "cell_type": "code",
   "execution_count": null,
   "id": "0123ae07",
   "metadata": {},
   "outputs": [],
   "source": [
    "# redefine the same function from above\n",
    "def f(x):\n",
    "    return x + 1"
   ]
  },
  {
   "cell_type": "code",
   "execution_count": null,
   "id": "e95868dd",
   "metadata": {},
   "outputs": [],
   "source": [
    "# cuDF result\n",
    "sr.apply(f)"
   ]
  },
  {
   "cell_type": "markdown",
   "id": "97372e15",
   "metadata": {},
   "source": [
    "Often however you want explicit null handling behavior inside the function. cuDF exposes this capability the same way as pandas, by interacting directly with the `NA` singleton object. Here's an example of a function with explicit null handling:"
   ]
  },
  {
   "cell_type": "code",
   "execution_count": null,
   "id": "6c65241b",
   "metadata": {},
   "outputs": [],
   "source": [
    "def f_null_sensitive(x):\n",
    "    # do something if the input is null\n",
    "    if x is cudf.NA:\n",
    "        return 42\n",
    "    else:\n",
    "        return x + 1"
   ]
  },
  {
   "cell_type": "code",
   "execution_count": null,
   "id": "ab0f4dbf",
   "metadata": {},
   "outputs": [],
   "source": [
    "# cuDF result\n",
    "sr.apply(f_null_sensitive)"
   ]
  },
  {
   "cell_type": "markdown",
   "id": "bdddc4e8",
   "metadata": {},
   "source": [
    "In addition, `cudf.NA` can be returned from a function directly or conditionally. This capability should allow you to implement custom null handling in a wide variety of cases."
   ]
  },
  {
   "cell_type": "markdown",
   "id": "54cafbc0",
   "metadata": {},
   "source": [
    "### Lower level control with custom `numba` kernels"
   ]
  },
  {
   "cell_type": "markdown",
   "id": "00914f2a",
   "metadata": {},
   "source": [
    "In addition to the Series.apply() method for performing custom operations, you can also pass Series objects directly into [CUDA kernels written with Numba](https://numba.pydata.org/numba-doc/latest/cuda/kernels.html).\n",
    "Note that this section requires basic CUDA knowledge. Refer to [numba's CUDA documentation](https://numba.pydata.org/numba-doc/latest/cuda/index.html) for details.\n",
    "\n",
    "The easiest way to write a Numba kernel is to use `cuda.grid(1)` to manage thread indices, and then leverage Numba's `forall` method to configure the kernel for us. Below, define a basic multiplication kernel as an example and use `@cuda.jit` to compile it."
   ]
  },
  {
   "cell_type": "code",
   "execution_count": null,
   "id": "732434f6",
   "metadata": {},
   "outputs": [],
   "source": [
    "df = randomdata(nrows=5, dtypes={'a':int, 'b':int, 'c':int}, seed=12)"
   ]
  },
  {
   "cell_type": "code",
   "execution_count": null,
   "id": "4f5997e5",
   "metadata": {},
   "outputs": [],
   "source": [
    "from numba import cuda\n",
    "\n",
    "@cuda.jit\n",
    "def multiply(in_col, out_col, multiplier):\n",
    "    i = cuda.grid(1)\n",
    "    if i < in_col.size: # boundary guard\n",
    "        out_col[i] = in_col[i] * multiplier"
   ]
  },
  {
   "cell_type": "markdown",
   "id": "d9667a55",
   "metadata": {},
   "source": [
    "This kernel will take an input array, multiply it by a configurable value (supplied at runtime), and store the result in an output array. Notice that we wrapped our logic in an `if` statement. Because we can launch more threads than the size of our array, we need to make sure that we don't use threads with an index that would be out of bounds. Leaving this out can result in undefined behavior.\n",
    "\n",
    "To execute our kernel, must pre-allocate an output array and leverage the `forall` method mentioned above. First, we create a Series of all `0.0` in our DataFrame, since we want `float64` output. Next, we run the kernel with `forall`. `forall` requires us to specify our desired number of tasks, so we'll supply in the length of our Series (which we store in `size`). The [__cuda_array_interface__](https://numba.pydata.org/numba-doc/dev/cuda/cuda_array_interface.html) is what allows us to directly call our Numba kernel on our Series."
   ]
  },
  {
   "cell_type": "code",
   "execution_count": null,
   "id": "ea6008a6",
   "metadata": {},
   "outputs": [],
   "source": [
    "size = len(df['a'])\n",
    "df['e'] = 0.0\n",
    "multiply.forall(size)(df['a'], df['e'], 10.0)"
   ]
  },
  {
   "cell_type": "markdown",
   "id": "3fb69909",
   "metadata": {},
   "source": [
    "After calling our kernel, our DataFrame is now populated with the result."
   ]
  },
  {
   "cell_type": "code",
   "execution_count": null,
   "id": "183a82ed",
   "metadata": {},
   "outputs": [],
   "source": [
    "df.head()"
   ]
  },
  {
   "cell_type": "markdown",
   "id": "ab9c305e",
   "metadata": {},
   "source": [
    "This API allows a you to theoretically write arbitrary kernel logic, potentially accessing and using elements of the series at arbitrary indices and use them on cuDF data structures. Advanced developers with some CUDA experience can often use this capability to implement iterative transformations, or spot treat problem areas of a data pipeline with a custom kernel that does the same job faster."
   ]
  },
  {
   "cell_type": "markdown",
   "id": "0acc6ef2",
   "metadata": {},
   "source": [
    "## DataFrame UDFs\n",
    "\n",
    "Like `cudf.Series`, there are multiple ways of using UDFs on dataframes, which essentially amount to UDFs that expect multiple columns as input:\n",
    "\n",
    "- `cudf.DataFrame.apply`, which functions like `pd.DataFrame.apply` and expects a row udf\n",
    "- `cudf.DataFrame.apply_rows`, which is a thin wrapper around numba and expects a numba kernel\n",
    "- `cudf.DataFrame.apply_chunks`, which is similar to `cudf.DataFrame.apply_rows` but offers lower level control."
   ]
  },
  {
   "cell_type": "markdown",
   "id": "2102c3ed",
   "metadata": {},
   "source": [
    "### `cudf.DataFrame.apply`"
   ]
  },
  {
   "cell_type": "markdown",
   "id": "238bec41",
   "metadata": {},
   "source": [
    "`cudf.DataFrame.apply` is the main entrypoint for UDFs that expect multiple columns as input and produce a single output column. Functions intended to be consumed by this API are written in terms of a \"row\" argument. The \"row\" is considered to be like a dictionary and contains all of the column values at a certain `iloc` in a `DataFrame`. The function can access these values by key within the function, the keys being the column names corresponding to the desired value. Below is an example function that would be used to add column `A` and column `B` together inside a UDF."
   ]
  },
  {
   "cell_type": "code",
   "execution_count": null,
   "id": "73653918",
   "metadata": {},
   "outputs": [],
   "source": [
    "def f(row):\n",
    "    return row['A'] + row['B']"
   ]
  },
  {
   "cell_type": "markdown",
   "id": "b5eb32dd",
   "metadata": {},
   "source": [
    "Let's create some very basic toy data containing at least one null."
   ]
  },
  {
   "cell_type": "code",
   "execution_count": null,
   "id": "077feb75",
   "metadata": {},
   "outputs": [],
   "source": [
    "df = cudf.DataFrame({\n",
    "    'A': [1,2,3],\n",
    "    'B': [4,cudf.NA,6]\n",
    "})\n",
    "df"
   ]
  },
  {
   "cell_type": "markdown",
   "id": "609a3da5",
   "metadata": {},
   "source": [
    "Finally call the function as you would in pandas - by using a lambda function to map the UDF onto \"rows\" of the DataFrame:"
   ]
  },
  {
   "cell_type": "code",
   "execution_count": null,
   "id": "091e39e1",
   "metadata": {},
   "outputs": [],
   "source": [
    "df.apply(f, axis=1)"
   ]
  },
  {
   "cell_type": "markdown",
   "id": "44e54c31",
   "metadata": {},
   "source": [
    "The same function should produce the same result as pandas:"
   ]
  },
  {
   "cell_type": "code",
   "execution_count": null,
   "id": "bd345fab",
   "metadata": {},
   "outputs": [],
   "source": [
    "df.to_pandas(nullable=True).apply(f, axis=1)"
   ]
  },
  {
   "cell_type": "markdown",
   "id": "004fbbba",
   "metadata": {},
   "source": [
    "Notice that Pandas returns `object` dtype - see notes on this in the caveats section."
   ]
  },
  {
   "cell_type": "markdown",
   "id": "0b11c172",
   "metadata": {},
   "source": [
    "Like `cudf.Series.apply`, these functions support generalized null handling. Here's a function that conditionally returns a different value if a certain input is null:"
   ]
  },
  {
   "cell_type": "code",
   "execution_count": null,
   "id": "b70f4b3b",
   "metadata": {},
   "outputs": [],
   "source": [
    "def f(row):\n",
    "    x = row['a']\n",
    "    if x is cudf.NA:\n",
    "        return 0\n",
    "    else:\n",
    "        return x + 1\n",
    "\n",
    "df = cudf.DataFrame({'a': [1, cudf.NA, 3]})\n",
    "df"
   ]
  },
  {
   "cell_type": "code",
   "execution_count": null,
   "id": "0313c8df",
   "metadata": {},
   "outputs": [],
   "source": [
    "df.apply(f, axis=1)"
   ]
  },
  {
   "cell_type": "markdown",
   "id": "313c77f3",
   "metadata": {},
   "source": [
    "`cudf.NA` can also be directly returned from a function resulting in data that has the the correct nulls in the end, just as if it were run in Pandas. For the following data, the last row fulfills the condition that `1 + 3 > 3` and returns `NA` for that row:"
   ]
  },
  {
   "cell_type": "code",
   "execution_count": null,
   "id": "96a7952a",
   "metadata": {},
   "outputs": [],
   "source": [
    "def f(row):\n",
    "    x = row['a']\n",
    "    y = row['b']\n",
    "    if x + y > 3:\n",
    "        return cudf.NA\n",
    "    else:\n",
    "        return x + y\n",
    "\n",
    "df = cudf.DataFrame({\n",
    "    'a': [1, 2, 3], \n",
    "    'b': [2, 1, 1]\n",
    "})\n",
    "df"
   ]
  },
  {
   "cell_type": "code",
   "execution_count": null,
   "id": "e0815f60",
   "metadata": {},
   "outputs": [],
   "source": [
    "df.apply(f, axis=1)"
   ]
  },
  {
   "cell_type": "markdown",
   "id": "b9c674f4",
   "metadata": {},
   "source": [
    "Mixed types are allowed, but will return the common type, rather than object as in Pandas. Here's a null aware op between an int and a float column:"
   ]
  },
  {
   "cell_type": "code",
   "execution_count": null,
   "id": "495efd14",
   "metadata": {},
   "outputs": [],
   "source": [
    "def f(row):\n",
    "     return row['a'] + row['b']\n",
    "\n",
    "df = cudf.DataFrame({\n",
    "    'a': [1, 2, 3], \n",
    "    'b': [0.5, cudf.NA, 3.14]\n",
    "})\n",
    "df"
   ]
  },
  {
   "cell_type": "code",
   "execution_count": null,
   "id": "678b0b5a",
   "metadata": {},
   "outputs": [],
   "source": [
    "df.apply(f, axis=1)"
   ]
  },
  {
   "cell_type": "markdown",
   "id": "ce0897c0",
   "metadata": {},
   "source": [
    "Functions may also return scalar values, however the result will be promoted to a safe type regardless of the data. This means even if you have a function like:\n",
    "\n",
    "```python\n",
    "def f(x):\n",
    "    if x > 1000:\n",
    "        return 1.5\n",
    "    else:\n",
    "        return 2\n",
    "```\n",
    "And your data is:\n",
    "```python\n",
    "[1,2,3,4,5]\n",
    "```\n",
    "You will get floats in the final data even though a float is never returned. This is because Numba ultimately needs to produce one function that can handle any data, which means if there's any possibility a float could result, you must always assume it will happen. Here's an example of a function that returns a scalar in some cases:"
   ]
  },
  {
   "cell_type": "code",
   "execution_count": null,
   "id": "acf48d56",
   "metadata": {},
   "outputs": [],
   "source": [
    "def f(row):\n",
    "    x = row['a']\n",
    "    if x > 3:\n",
    "            return x\n",
    "    else:\n",
    "            return 1.5\n",
    "\n",
    "df = cudf.DataFrame({\n",
    "    'a': [1, 3, 5]\n",
    "})\n",
    "df"
   ]
  },
  {
   "cell_type": "code",
   "execution_count": null,
   "id": "78a98172",
   "metadata": {},
   "outputs": [],
   "source": [
    "df.apply(f, axis=1)"
   ]
  },
  {
   "cell_type": "markdown",
   "id": "2ceaece4",
   "metadata": {},
   "source": [
    "Any number of columns and many arithmetic operators are supported, allowing for complex UDFs:"
   ]
  },
  {
   "cell_type": "code",
   "execution_count": null,
   "id": "142c30a9",
   "metadata": {},
   "outputs": [],
   "source": [
    "def f(row):\n",
    "    return row['a'] + (row['b'] - (row['c'] / row['d'])) % row['e']\n",
    "\n",
    "df = cudf.DataFrame({\n",
    "    'a': [1, 2, 3],\n",
    "    'b': [4, 5, 6],\n",
    "    'c': [cudf.NA, 4, 4],\n",
    "    'd': [8, 7, 8],\n",
    "    'e': [7, 1, 6]\n",
    "})\n",
    "df"
   ]
  },
  {
   "cell_type": "code",
   "execution_count": null,
   "id": "fee9198a",
   "metadata": {},
   "outputs": [],
   "source": [
    "df.apply(f, axis=1)"
   ]
  },
  {
   "cell_type": "markdown",
   "id": "9c587bd2",
   "metadata": {},
   "source": [
    "### Numba kernels for DataFrames"
   ]
  },
  {
   "cell_type": "markdown",
   "id": "adc6a459",
   "metadata": {},
   "source": [
    "We could apply a UDF on a DataFrame like we did above with `forall`. We'd need to write a kernel that expects multiple inputs, and pass multiple Series as arguments when we execute our kernel. Because this is fairly common and can be difficult to manage, cuDF provides two APIs to streamline this: `apply_rows` and `apply_chunks`. Below, we walk through an example of using `apply_rows`. `apply_chunks` works in a similar way, but also offers more control over low-level kernel behavior.\n",
    "\n",
    "Now that we have two numeric columns in our DataFrame, let's write a kernel that uses both of them."
   ]
  },
  {
   "cell_type": "code",
   "execution_count": null,
   "id": "90cbcd85",
   "metadata": {},
   "outputs": [],
   "source": [
    "def conditional_add(x, y, out):\n",
    "    for i, (a, e) in enumerate(zip(x, y)):\n",
    "        if a > 0:\n",
    "            out[i] = a + e\n",
    "        else:\n",
    "            out[i] = a"
   ]
  },
  {
   "cell_type": "markdown",
   "id": "bce045f2",
   "metadata": {},
   "source": [
    "Notice that we need to `enumerate` through our `zipped` function arguments (which either match or are mapped to our input column names). We can pass this kernel to `apply_rows`. We'll need to specify a few arguments:\n",
    "- incols\n",
    "    - A list of names of input columns that match the function arguments. Or, a dictionary mapping input column names to their corresponding function arguments such as `{'col1': 'arg1'}`.\n",
    "- outcols\n",
    "    - A dictionary defining our output column names and their data types. These names must match our function arguments.\n",
    "- kwargs (optional)\n",
    "    - We can optionally pass keyword arguments as a dictionary. Since we don't need any, we pass an empty one.\n",
    "    \n",
    "While it looks like our function is looping sequentially through our columns, it actually executes in parallel in multiple threads on the GPU. This parallelism is the heart of GPU-accelerated computing. With that background, we're ready to use our UDF."
   ]
  },
  {
   "cell_type": "code",
   "execution_count": null,
   "id": "e782daff",
   "metadata": {},
   "outputs": [],
   "source": [
    "df = df.apply_rows(conditional_add, \n",
    "                   incols={'a':'x', 'e':'y'},\n",
    "                   outcols={'out': np.float64},\n",
    "                   kwargs={}\n",
    "                  )\n",
    "df.head()"
   ]
  },
  {
   "cell_type": "markdown",
   "id": "6b838b89",
   "metadata": {},
   "source": [
    "As expected, we see our conditional addition worked. At this point, we've successfully executed UDFs on the core data structures of cuDF."
   ]
  },
  {
   "cell_type": "markdown",
   "id": "fca97003",
   "metadata": {},
   "source": [
    "### Null Handling in `apply_rows` and `apply_chunks`\n",
    "\n",
    "By default, DataFrame methods for applying UDFs like `apply_rows` will handle nulls pessimistically (all rows with a null value will be removed from the output if they are used in the kernel). Exploring how not handling not pessimistically can lead to undefined behavior is outside the scope of this guide. Suffice it to say, pessimistic null handling is the safe and consistent approach. You can see an example below."
   ]
  },
  {
   "cell_type": "code",
   "execution_count": null,
   "id": "befd8333",
   "metadata": {},
   "outputs": [],
   "source": [
    "def gpu_add(a, b, out):\n",
    "    for i, (x, y) in enumerate(zip(a, b)):\n",
    "        out[i] = x + y\n",
    "\n",
    "df = randomdata(nrows=5, dtypes={'a':int, 'b':int, 'c':int}, seed=12)\n",
    "df.loc[2, 'a'] = None\n",
    "df.loc[3, 'b'] = None\n",
    "df.loc[1, 'c'] = None\n",
    "df.head()"
   ]
  },
  {
   "cell_type": "markdown",
   "id": "c710ce86",
   "metadata": {},
   "source": [
    "In the dataframe above, there are three null values. Each column has a null in a different row. When we use our UDF with `apply_rows`, our output should have two nulls due to pessimistic null handling (because we're not using column `c`, the null value there does not matter to us)."
   ]
  },
  {
   "cell_type": "code",
   "execution_count": null,
   "id": "d1f3dcaf",
   "metadata": {},
   "outputs": [],
   "source": [
    "df = df.apply_rows(gpu_add, \n",
    "              incols=['a', 'b'],\n",
    "              outcols={'out':np.float64},\n",
    "              kwargs={})\n",
    "df.head()"
   ]
  },
  {
   "cell_type": "markdown",
   "id": "53b9a2f8",
   "metadata": {},
   "source": [
    "As expected, we end up with two nulls in our output. The null values from the columns we used propogated to our output, but the null from the column we ignored did not."
   ]
  },
  {
   "cell_type": "markdown",
   "id": "4bbefa67",
   "metadata": {},
   "source": [
    "## Rolling Window UDFs\n",
    "\n",
    "For time-series data, we may need to operate on a small \\\"window\\\" of our column at a time, processing each portion independently. We could slide (\\\"roll\\\") this window over the entire column to answer questions like \\\"What is the 3-day moving average of a stock price over the past year?\"\n",
    "\n",
    "We can apply more complex functions to rolling windows to `rolling` Series and DataFrames using `apply`. This example is adapted from cuDF's [API documentation](https://docs.rapids.ai/api/cudf/stable/api_docs/api/cudf.DataFrame.rolling.html). First, we'll create an example Series and then create a `rolling` object from the Series."
   ]
  },
  {
   "cell_type": "code",
   "execution_count": null,
   "id": "6bc6aea3",
   "metadata": {},
   "outputs": [],
   "source": [
    "ser = cudf.Series([16, 25, 36, 49, 64, 81], dtype='float64')\n",
    "ser"
   ]
  },
  {
   "cell_type": "code",
   "execution_count": null,
   "id": "a4c31df1",
   "metadata": {},
   "outputs": [],
   "source": [
    "rolling = ser.rolling(window=3, min_periods=3, center=False)\n",
    "rolling"
   ]
  },
  {
   "cell_type": "markdown",
   "id": "ff40d863",
   "metadata": {},
   "source": [
    "Next, we'll define a function to use on our rolling windows. We created this one to highlight how you can include things like loops, mathematical functions, and conditionals. Rolling window UDFs do not yet support null values."
   ]
  },
  {
   "cell_type": "code",
   "execution_count": null,
   "id": "eb5a081b",
   "metadata": {},
   "outputs": [],
   "source": [
    "import math\n",
    "\n",
    "def example_func(window):\n",
    "    b = 0\n",
    "    for a in window:\n",
    "        b = max(b, math.sqrt(a))\n",
    "    if b == 8:\n",
    "        return 100    \n",
    "    return b"
   ]
  },
  {
   "cell_type": "markdown",
   "id": "df8ba31d",
   "metadata": {},
   "source": [
    "We can execute the function by passing it to `apply`. With `window=3`, `min_periods=3`, and `center=False`, our first two values are `null`."
   ]
  },
  {
   "cell_type": "code",
   "execution_count": null,
   "id": "ddec3263",
   "metadata": {},
   "outputs": [],
   "source": [
    "rolling.apply(example_func)"
   ]
  },
  {
   "cell_type": "markdown",
   "id": "187478db",
   "metadata": {},
   "source": [
    "We can apply this function to every column in a DataFrame, too."
   ]
  },
  {
   "cell_type": "code",
   "execution_count": null,
   "id": "8b61094a",
   "metadata": {},
   "outputs": [],
   "source": [
    "df2 = cudf.DataFrame()\n",
    "df2['a'] = np.arange(55, 65, dtype='float64')\n",
    "df2['b'] = np.arange(55, 65, dtype='float64')\n",
    "df2.head()"
   ]
  },
  {
   "cell_type": "code",
   "execution_count": null,
   "id": "bb8c3019",
   "metadata": {},
   "outputs": [],
   "source": [
    "rolling = df2.rolling(window=3, min_periods=3, center=False)\n",
    "rolling.apply(example_func)"
   ]
  },
  {
   "cell_type": "markdown",
   "id": "d4785060",
   "metadata": {},
   "source": [
    "## GroupBy DataFrame UDFs\n",
    "\n",
    "We can also apply UDFs to grouped DataFrames using `apply_grouped`. This example is also drawn and adapted from the RAPIDS [API documentation]().\n",
    "\n",
    "First, we'll group our DataFrame based on column `b`, which is either True or False."
   ]
  },
  {
   "cell_type": "code",
   "execution_count": null,
   "id": "3dc272ab",
   "metadata": {},
   "outputs": [],
   "source": [
    "df = randomdata(nrows=10, dtypes={'a':float, 'b':bool, 'c':str, 'e': float}, seed=12)\n",
    "df.head()"
   ]
  },
  {
   "cell_type": "code",
   "execution_count": null,
   "id": "c0578e0a",
   "metadata": {},
   "outputs": [],
   "source": [
    "grouped = df.groupby(['b'])"
   ]
  },
  {
   "cell_type": "markdown",
   "id": "4808726f",
   "metadata": {},
   "source": [
    "Next we'll define a function to apply to each group independently. In this case, we'll take the rolling average of column `e`, and call that new column `rolling_avg_e`."
   ]
  },
  {
   "cell_type": "code",
   "execution_count": null,
   "id": "19f0f7fe",
   "metadata": {},
   "outputs": [],
   "source": [
    "def rolling_avg(e, rolling_avg_e):\n",
    "    win_size = 3\n",
    "    for i in range(cuda.threadIdx.x, len(e), cuda.blockDim.x):\n",
    "        if i < win_size - 1:\n",
    "            # If there is not enough data to fill the window,\n",
    "            # take the average to be NaN\n",
    "            rolling_avg_e[i] = np.nan\n",
    "        else:\n",
    "            total = 0\n",
    "            for j in range(i - win_size + 1, i + 1):\n",
    "                total += e[j]\n",
    "            rolling_avg_e[i] = total / win_size"
   ]
  },
  {
   "cell_type": "markdown",
   "id": "7566f359",
   "metadata": {},
   "source": [
    "We can execute this with a very similar API to `apply_rows`. This time, though, it's going to execute independently for each group."
   ]
  },
  {
   "cell_type": "code",
   "execution_count": null,
   "id": "c43426c3",
   "metadata": {},
   "outputs": [],
   "source": [
    "results = grouped.apply_grouped(rolling_avg,\n",
    "                               incols=['e'],\n",
    "                               outcols=dict(rolling_avg_e=np.float64))\n",
    "results"
   ]
  },
  {
   "cell_type": "markdown",
   "id": "c8511306",
   "metadata": {},
   "source": [
    "Notice how, with a window size of three in the kernel, the first two values in each group for our output column are null."
   ]
  },
  {
   "cell_type": "markdown",
   "id": "0060678c",
   "metadata": {},
   "source": [
    "## Numba Kernels on CuPy Arrays\n",
    "\n",
    "We can also execute Numba kernels on CuPy NDArrays, again thanks to the `__cuda_array_interface__`. We can even run the same UDF on the Series and the CuPy array. First, we define a Series and then create a CuPy array from that Series."
   ]
  },
  {
   "cell_type": "code",
   "execution_count": null,
   "id": "aa6a8509",
   "metadata": {},
   "outputs": [],
   "source": [
    "import cupy as cp\n",
    "\n",
    "s = cudf.Series([1.0, 2, 3, 4, 10])\n",
    "arr = cp.asarray(s)\n",
    "arr"
   ]
  },
  {
   "cell_type": "markdown",
   "id": "0fed556f",
   "metadata": {},
   "source": [
    "Next, we define a UDF and execute it on our Series. We need to allocate a Series of the same size for our output, which we'll call `out`."
   ]
  },
  {
   "cell_type": "code",
   "execution_count": null,
   "id": "0bb8bf93",
   "metadata": {},
   "outputs": [],
   "source": [
    "@cuda.jit\n",
    "def multiply_by_5(x, out):\n",
    "    i = cuda.grid(1)\n",
    "    if i < x.size:\n",
    "        out[i] = x[i] * 5\n",
    "        \n",
    "out = cudf.Series(cp.zeros(len(s), dtype='int32'))\n",
    "multiply_by_5.forall(s.shape[0])(s, out)\n",
    "out"
   ]
  },
  {
   "cell_type": "markdown",
   "id": "a857b169",
   "metadata": {},
   "source": [
    "Finally, we execute the same function on our array. We allocate an empty array `out` to store our results."
   ]
  },
  {
   "cell_type": "code",
   "execution_count": null,
   "id": "ce60b639",
   "metadata": {},
   "outputs": [],
   "source": [
    "out = cp.empty_like(arr)\n",
    "multiply_by_5.forall(arr.size)(arr, out)\n",
    "out"
   ]
  },
  {
   "cell_type": "markdown",
   "id": "b899d51c",
   "metadata": {},
   "source": [
    "## Caveats"
   ]
  },
  {
   "cell_type": "markdown",
   "id": "fe7eb68b",
   "metadata": {},
   "source": [
    "- Only numeric nondecimal scalar types are currently supported as of yet, but strings and structured types are in planning. Attempting to use this API with those types will throw a `TypeError`.\n",
    "- We do not yet fully support all arithmetic operators. Certain ops like bitwise operations are not currently implemented, but planned in future releases. If an operator is needed, a github issue should be raised so that it can be properly prioritized and implemented."
   ]
  },
  {
   "cell_type": "markdown",
   "id": "c690563b",
   "metadata": {},
   "source": [
    "## Summary\n",
    "\n",
    "This guide has covered a lot of content. At this point, you should hopefully feel comfortable writing UDFs (with or without null values) that operate on\n",
    "\n",
    "- Series\n",
    "- DataFrame\n",
    "- Rolling Windows\n",
    "- GroupBy DataFrames\n",
    "- CuPy NDArrays\n",
    "- Numba DeviceNDArrays\n",
    "- Generalized NA UDFs\n",
    "\n",
    "\n",
    "For more information please see the [cuDF](https://docs.rapids.ai/api/cudf/nightly/), [Numba.cuda](https://numba.pydata.org/numba-doc/dev/cuda/index.html), and [CuPy](https://docs-cupy.chainer.org/en/stable/) documentation."
   ]
  }
 ],
 "metadata": {
  "kernelspec": {
   "display_name": "Python 3 (ipykernel)",
   "language": "python",
   "name": "python3"
  }
 },
 "nbformat": 4,
 "nbformat_minor": 5
}
